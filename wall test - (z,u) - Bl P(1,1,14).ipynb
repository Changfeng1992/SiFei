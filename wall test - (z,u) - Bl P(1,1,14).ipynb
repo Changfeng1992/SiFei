{
 "cells": [
  {
   "cell_type": "code",
   "execution_count": 2,
   "metadata": {},
   "outputs": [],
   "source": [
    "from sympy import *\n",
    "from fractions import Fraction"
   ]
  },
  {
   "attachments": {},
   "cell_type": "markdown",
   "metadata": {},
   "source": [
    "Mon is the set of all possibile monomials of $z,u$ in the center of the blow up on $\\mathbb{P}(1,1,4)$. \n",
    "\n",
    "$(i,j)$ in Mon represents monomial $z^i u^j$"
   ]
  },
  {
   "cell_type": "code",
   "execution_count": 3,
   "metadata": {},
   "outputs": [],
   "source": [
    "Mon = [(i,i) for i in list(range(5))] + [(i,i+1) for i in list(range(8))] + [(i,i+2) for i in list(range(11))]"
   ]
  },
  {
   "cell_type": "code",
   "execution_count": 4,
   "metadata": {},
   "outputs": [],
   "source": [
    "Mon.append((1,0))"
   ]
  },
  {
   "cell_type": "code",
   "execution_count": 5,
   "metadata": {},
   "outputs": [
    {
     "data": {
      "text/plain": [
       "[(0, 0),\n",
       " (1, 1),\n",
       " (2, 2),\n",
       " (3, 3),\n",
       " (4, 4),\n",
       " (0, 1),\n",
       " (1, 2),\n",
       " (2, 3),\n",
       " (3, 4),\n",
       " (4, 5),\n",
       " (5, 6),\n",
       " (6, 7),\n",
       " (7, 8),\n",
       " (0, 2),\n",
       " (1, 3),\n",
       " (2, 4),\n",
       " (3, 5),\n",
       " (4, 6),\n",
       " (5, 7),\n",
       " (6, 8),\n",
       " (7, 9),\n",
       " (8, 10),\n",
       " (9, 11),\n",
       " (10, 12),\n",
       " (1, 0)]"
      ]
     },
     "execution_count": 5,
     "metadata": {},
     "output_type": "execute_result"
    }
   ],
   "source": [
    "Mon"
   ]
  },
  {
   "attachments": {},
   "cell_type": "markdown",
   "metadata": {},
   "source": [
    "To compute the potential wall, assume the weighted blow is of weight $(a,b)$ in $(z,u)$.\n",
    "Then if two monomials $(i[0],i[1]), (j[0],j[1])$ appear in the center, they satisfies\n",
    "$$\n",
    " a \\cdot i[0] + b \\cdot i[1] = a \\cdot j[0] +  b \\cdot j[1]\n",
    "$$\n",
    "Hence one may set $a= j[1]- i[1]$ and $b = i[0]-i[1]$.\n",
    "\n",
    "Then $A(a,b,m,c) =S(a,b,c)$ will give all possible value $c$ of walls.\n",
    "Finally, we pick out those values lying in $(\\frac{1}{14},\\frac{1}{2})$."
   ]
  },
  {
   "cell_type": "code",
   "execution_count": 9,
   "metadata": {},
   "outputs": [
    {
     "data": {
      "text/plain": [
       "{(Fraction(35, 166), 1, 0, (0, 0), (0, 1)),\n",
       " (Fraction(35, 166), 1, 0, (0, 1), (0, 2)),\n",
       " (Fraction(35, 166), 2, 0, (0, 0), (0, 2)),\n",
       " (Fraction(29, 106), 0, -1, (0, 0), (1, 0)),\n",
       " (Fraction(31, 110), -1, -1, (0, 1), (1, 0)),\n",
       " (Fraction(2, 7), -2, -1, (0, 2), (1, 0)),\n",
       " (Fraction(35, 118), -3, 0, (1, 3), (1, 0)),\n",
       " (Fraction(35, 118), -2, 0, (1, 2), (1, 0)),\n",
       " (Fraction(35, 118), -1, 0, (1, 1), (1, 0)),\n",
       " (Fraction(35, 118), 1, 0, (1, 1), (1, 2)),\n",
       " (Fraction(35, 118), 1, 0, (1, 2), (1, 3)),\n",
       " (Fraction(35, 118), 2, 0, (1, 1), (1, 3)),\n",
       " (Fraction(31, 94), 1, 1, (1, 1), (0, 2)),\n",
       " (Fraction(29, 82), 0, 1, (1, 1), (0, 1))}"
      ]
     },
     "execution_count": 9,
     "metadata": {},
     "output_type": "execute_result"
    }
   ],
   "source": [
    "wall = set([])\n",
    "for i in list(range(len(Mon))):\n",
    "    for j in list(range(i+1,len(Mon))):\n",
    "        a = Mon[j][1] - Mon[i][1]\n",
    "        b = Mon[i][0] - Mon[j][0]\n",
    "        # a,b is of same symbol\n",
    "        if ((a*b)>=0):     \n",
    "            m = Mon[i][0]* Mon[j][1] - Mon[i][1]* Mon[j][0]\n",
    "            c = Fraction((35*a+58*b),(166*a+212*b-48*m))\n",
    "            if 1/14 <= c < 1/2:\n",
    "                wall.add((c,a,b,Mon[i],Mon[j]))\n",
    "wall"
   ]
  },
  {
   "cell_type": "code",
   "execution_count": 7,
   "metadata": {},
   "outputs": [
    {
     "data": {
      "text/plain": [
       "11"
      ]
     },
     "execution_count": 7,
     "metadata": {},
     "output_type": "execute_result"
    }
   ],
   "source": [
    "len(wall)"
   ]
  },
  {
   "cell_type": "code",
   "execution_count": 8,
   "metadata": {},
   "outputs": [
    {
     "data": {
      "text/plain": [
       "[Fraction(27, 1),\n",
       " Fraction(31, 1),\n",
       " Fraction(25, 1),\n",
       " Fraction(31, 1),\n",
       " Fraction(31, 1),\n",
       " Fraction(31, 1),\n",
       " Fraction(85, 2),\n",
       " Fraction(54, 1),\n",
       " Fraction(31, 1),\n",
       " Fraction(31, 1),\n",
       " Fraction(28, 1)]"
      ]
     },
     "execution_count": 8,
     "metadata": {},
     "output_type": "execute_result"
    }
   ],
   "source": [
    "candidate = []\n",
    "for i in wall:\n",
    "    n = Fraction((56* i[0] -4)/(1-2*i[0]))\n",
    "    candidate.append(n)\n",
    "\n",
    "candidate"
   ]
  }
 ],
 "metadata": {
  "kernelspec": {
   "display_name": "Python 3",
   "language": "python",
   "name": "python3"
  },
  "language_info": {
   "codemirror_mode": {
    "name": "ipython",
    "version": 3
   },
   "file_extension": ".py",
   "mimetype": "text/x-python",
   "name": "python",
   "nbconvert_exporter": "python",
   "pygments_lexer": "ipython3",
   "version": "3.10.0"
  },
  "vscode": {
   "interpreter": {
    "hash": "26de051ba29f2982a8de78e945f0abaf191376122a1563185a90213a26c5da77"
   }
  }
 },
 "nbformat": 4,
 "nbformat_minor": 4
}
