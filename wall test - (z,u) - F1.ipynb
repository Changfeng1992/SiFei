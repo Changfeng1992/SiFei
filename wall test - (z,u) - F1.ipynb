{
 "cells": [
  {
   "attachments": {},
   "cell_type": "markdown",
   "metadata": {},
   "source": [
    "Mon is the set of all possibile monomials of $z,u$ in the center of the blow up on $\\mathbb{F}_1$. \n",
    "\n",
    "$(i,j)$ in Mon represents monomial $z^i u^j$"
   ]
  },
  {
   "cell_type": "code",
   "execution_count": 1,
   "metadata": {},
   "outputs": [],
   "source": [
    "Mon = [(0,i) for i in list(range(3))] + [(1,i) for i in list(range(4))] + [(2,i) for i in list(range(5))] + [(3,i) for i in list(range(6))] + [(4,i) for i in list(range(7))]"
   ]
  },
  {
   "cell_type": "code",
   "execution_count": 3,
   "metadata": {},
   "outputs": [
    {
     "data": {
      "text/plain": [
       "25"
      ]
     },
     "execution_count": 3,
     "metadata": {},
     "output_type": "execute_result"
    }
   ],
   "source": [
    "len(Mon)"
   ]
  },
  {
   "cell_type": "code",
   "execution_count": 10,
   "metadata": {},
   "outputs": [
    {
     "data": {
      "text/plain": [
       "[(0, 0),\n",
       " (0, 1),\n",
       " (0, 2),\n",
       " (1, 0),\n",
       " (1, 1),\n",
       " (1, 2),\n",
       " (1, 3),\n",
       " (2, 0),\n",
       " (2, 1),\n",
       " (2, 2),\n",
       " (2, 3),\n",
       " (2, 4),\n",
       " (3, 0),\n",
       " (3, 1),\n",
       " (3, 2),\n",
       " (3, 3),\n",
       " (3, 4),\n",
       " (3, 5),\n",
       " (4, 0),\n",
       " (4, 1),\n",
       " (4, 2),\n",
       " (4, 3),\n",
       " (4, 4),\n",
       " (4, 5),\n",
       " (4, 6)]"
      ]
     },
     "execution_count": 10,
     "metadata": {},
     "output_type": "execute_result"
    }
   ],
   "source": [
    "Mon"
   ]
  },
  {
   "attachments": {},
   "cell_type": "markdown",
   "metadata": {},
   "source": [
    "To compute the potential wall, assume the weighted blow is of weight $(a,b)$ in $(z,u)$.\n",
    "Then if two monomials $(i[0],i[1]), (j[0],j[1])$ appear in the center, they satisfies\n",
    "$$\n",
    " a \\cdot i[0] + b \\cdot i[1] = a \\cdot j[0] +  b \\cdot j[1]\n",
    "$$\n",
    "Hence one may set $a= j[1]- i[1]$ and $b = i[0]-i[1]$.\n",
    "\n",
    "Then $A(a,b,m,c) =S(a,b,c)$ will give all possible value $c$ of walls.\n",
    "Finally, we pick out those values lying in $(\\frac{1}{14},\\frac{1}{2})$."
   ]
  },
  {
   "cell_type": "code",
   "execution_count": 27,
   "metadata": {},
   "outputs": [
    {
     "data": {
      "text/plain": [
       "{(5/58, (0, 0), (1, 3)),\n",
       " (5/58, (0, 2), (1, 0)),\n",
       " (5/58, (1, 1), (4, 0)),\n",
       " (5/58, (1, 2), (4, 6)),\n",
       " (1/11, (1, 1), (3, 0)),\n",
       " (1/11, (1, 2), (3, 5)),\n",
       " (1/10, (0, 0), (1, 2)),\n",
       " (1/10, (0, 0), (2, 4)),\n",
       " (1/10, (0, 2), (1, 1)),\n",
       " (1/10, (0, 2), (2, 0)),\n",
       " (1/10, (1, 1), (2, 0)),\n",
       " (1/10, (1, 2), (2, 4)),\n",
       " (7/62, (0, 0), (3, 5)),\n",
       " (7/62, (0, 2), (3, 0)),\n",
       " (1/8, (0, 0), (2, 3)),\n",
       " (1/8, (0, 0), (4, 6)),\n",
       " (1/8, (0, 2), (2, 1)),\n",
       " (1/8, (0, 2), (4, 0)),\n",
       " (1/8, (1, 0), (1, 1)),\n",
       " (1/8, (1, 0), (1, 2)),\n",
       " (1/8, (1, 0), (1, 3)),\n",
       " (1/8, (1, 1), (1, 2)),\n",
       " (1/8, (1, 1), (1, 3)),\n",
       " (1/8, (1, 2), (1, 3)),\n",
       " (1/8, (2, 1), (4, 0)),\n",
       " (1/8, (2, 3), (4, 6)),\n",
       " (5/34, (0, 0), (3, 4)),\n",
       " (5/34, (0, 2), (3, 1)),\n",
       " (5/34, (1, 1), (2, 4)),\n",
       " (5/34, (1, 2), (2, 0)),\n",
       " (1/6, (0, 0), (4, 5)),\n",
       " (1/6, (0, 2), (4, 1)),\n",
       " (1/6, (1, 1), (2, 3)),\n",
       " (1/6, (1, 1), (3, 5)),\n",
       " (1/6, (1, 2), (2, 1)),\n",
       " (1/6, (1, 2), (3, 0)),\n",
       " (1/6, (2, 1), (3, 0)),\n",
       " (1/6, (2, 3), (3, 5)),\n",
       " (7/38, (1, 0), (2, 4)),\n",
       " (7/38, (1, 1), (4, 6)),\n",
       " (7/38, (1, 2), (4, 0)),\n",
       " (7/38, (1, 3), (2, 0)),\n",
       " (1/5, (1, 1), (3, 4)),\n",
       " (1/5, (1, 2), (3, 1)),\n",
       " (5/22, (1, 0), (2, 3)),\n",
       " (5/22, (1, 1), (4, 5)),\n",
       " (5/22, (1, 2), (4, 1)),\n",
       " (5/22, (1, 3), (2, 1)),\n",
       " (2/7, (1, 0), (3, 5)),\n",
       " (2/7, (1, 3), (3, 0))}"
      ]
     },
     "execution_count": 27,
     "metadata": {},
     "output_type": "execute_result"
    }
   ],
   "source": [
    "wall = set([])\n",
    "for i in list(range(len(Mon))):\n",
    "    for j in list(range(i+1,len(Mon))):\n",
    "        a = Mon[j][1] - Mon[i][1]\n",
    "        b = Mon[i][0] - Mon[j][0]\n",
    "        m = Mon[i][0]* Mon[j][1] - Mon[i][1]* Mon[j][0]\n",
    "        if (28*a + 26*b - 12*m) != 0:\n",
    "            c = (2*a + b)/(28*a + 26*b - 12*m)\n",
    "            if 1/14 < c < 1/2:\n",
    "                wall.add((c,Mon[i],Mon[j]))\n",
    "wall"
   ]
  },
  {
   "cell_type": "code",
   "execution_count": 16,
   "metadata": {},
   "outputs": [
    {
     "data": {
      "text/plain": [
       "26"
      ]
     },
     "execution_count": 16,
     "metadata": {},
     "output_type": "execute_result"
    }
   ],
   "source": [
    "len(wall)"
   ]
  }
 ],
 "metadata": {
  "kernelspec": {
   "display_name": "SageMath 9.3",
   "language": "sage",
   "name": "sagemath"
  },
  "language_info": {
   "codemirror_mode": {
    "name": "ipython",
    "version": 3
   },
   "file_extension": ".py",
   "mimetype": "text/x-python",
   "name": "python",
   "nbconvert_exporter": "python",
   "pygments_lexer": "ipython3",
   "version": "3.7.10"
  }
 },
 "nbformat": 4,
 "nbformat_minor": 4
}
